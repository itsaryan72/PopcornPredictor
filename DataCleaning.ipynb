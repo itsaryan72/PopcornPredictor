{
  "nbformat": 4,
  "nbformat_minor": 0,
  "metadata": {
    "colab": {
      "provenance": [],
      "authorship_tag": "ABX9TyN+HB7u32fu4fXcuXj2iVXg",
      "include_colab_link": true
    },
    "kernelspec": {
      "name": "python3",
      "display_name": "Python 3"
    },
    "language_info": {
      "name": "python"
    }
  },
  "cells": [
    {
      "cell_type": "markdown",
      "metadata": {
        "id": "view-in-github",
        "colab_type": "text"
      },
      "source": [
        "<a href=\"https://colab.research.google.com/github/itsaryan72/PopcornPredictor/blob/main/DataCleaning.ipynb\" target=\"_parent\"><img src=\"https://colab.research.google.com/assets/colab-badge.svg\" alt=\"Open In Colab\"/></a>"
      ]
    },
    {
      "cell_type": "code",
      "execution_count": null,
      "metadata": {
        "id": "SuBsHLW56Xh_"
      },
      "outputs": [],
      "source": [
        "\n",
        "import pandas as pd\n",
        "import requests\n",
        "import time\n",
        "\n",
        "# Load your CSV\n",
        "df = pd.read_csv('ratings_partial_upd.csv')\n",
        "\n",
        "# Ensure 'rating_score' column exists\n",
        "if 'rating_score' not in df.columns:\n",
        "    df['rating_score'] = float('nan')\n",
        "\n",
        "# TMDb API Key\n",
        "api_key = 'efcbcae632643964ad88567c20bb79c5'\n",
        "\n",
        "def fetch_tmdb_rating(title):\n",
        "    try:\n",
        "        search_url = f'https://api.themoviedb.org/3/search/movie'\n",
        "        params = {\n",
        "            'api_key': api_key,\n",
        "            'query': title\n",
        "        }\n",
        "        response = requests.get(search_url, params=params)\n",
        "        data = response.json()\n",
        "\n",
        "        if data['results']:\n",
        "            movie = data['results'][0]  # Take top search result\n",
        "            return movie.get('vote_average', None)  # Rating out of 10\n",
        "        return None\n",
        "    except Exception as e:\n",
        "        print(f\"Error fetching TMDb rating for {title}: {e}\")\n",
        "        return None\n",
        "\n",
        "# Iterate and fetch only missing ratings\n",
        "for idx, row in df.iterrows():\n",
        "    if pd.notna(row['rating_score']):\n",
        "        continue  # Skip if rating already exists\n",
        "\n",
        "    title = row['title']\n",
        "    rating = fetch_tmdb_rating(title)\n",
        "    df.at[idx, 'rating_score'] = rating\n",
        "    print(f\"Fetched rating for {title}: {rating}\")\n",
        "\n",
        "    time.sleep(0.25)  # Add delay to respect TMDb limits\n",
        "\n",
        "# Save to new file\n",
        "df.to_csv('your_shows_with_ratings.csv', index=False)\n",
        "print(\"✅ Ratings updated and file saved.\")\n",
        "\n"
      ]
    },
    {
      "cell_type": "code",
      "source": [
        "df['rating_score'].fillna(0, inplace=True)\n",
        "df.to_csv('ratings_partial_upd.csv', index=False)\n",
        "print(\"✅ Progress saved as 'ratings_partial_upd.csv'\")"
      ],
      "metadata": {
        "colab": {
          "base_uri": "https://localhost:8080/"
        },
        "id": "r3MsIAAb7TE-",
        "outputId": "a9bfa8d6-c03b-4202-ad14-fdc59df32673"
      },
      "execution_count": 4,
      "outputs": [
        {
          "output_type": "stream",
          "name": "stdout",
          "text": [
            "✅ Progress saved as 'your_shows_with_ratings_partial.csv'\n"
          ]
        },
        {
          "output_type": "stream",
          "name": "stderr",
          "text": [
            "<ipython-input-4-2bcb57dd1dbf>:1: FutureWarning: A value is trying to be set on a copy of a DataFrame or Series through chained assignment using an inplace method.\n",
            "The behavior will change in pandas 3.0. This inplace method will never work because the intermediate object on which we are setting values always behaves as a copy.\n",
            "\n",
            "For example, when doing 'df[col].method(value, inplace=True)', try using 'df.method({col: value}, inplace=True)' or df[col] = df[col].method(value) instead, to perform the operation inplace on the original object.\n",
            "\n",
            "\n",
            "  df['rating_score'].fillna(0, inplace=True)\n"
          ]
        }
      ]
    },
    {
      "cell_type": "code",
      "source": [],
      "metadata": {
        "id": "5S7_ZEOb_6Tn"
      },
      "execution_count": null,
      "outputs": []
    }
  ]
}